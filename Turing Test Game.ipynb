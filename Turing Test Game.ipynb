{
 "cells": [
  {
   "cell_type": "code",
   "execution_count": 6,
   "id": "e53f8988",
   "metadata": {},
   "outputs": [],
   "source": [
    "from model import infer_probability, model_webppl_dist\n",
    "\n",
    "def game():\n",
    "    seq = input(\"Give me a random sequence:\")\n",
    "    prob_human = infer_probability(seq, model_webppl_dist)\n",
    "    print(prob_human)\n",
    "    if prob_human >= .7:\n",
    "        print(\"That's not random!\")\n",
    "    elif prob_human <= .3:\n",
    "        print(\"That's random!\")\n",
    "    else:\n",
    "        print(\"Hmm...I can't tell\")"
   ]
  },
  {
   "cell_type": "code",
   "execution_count": 5,
   "id": "e7c78eef",
   "metadata": {},
   "outputs": [
    {
     "name": "stdout",
     "output_type": "stream",
     "text": [
      "Give me a random sequence:HTHHHTTHTTTTHTTHHTTHT\n",
      "0.41259993780240534\n",
      "Hmm...I can't tell\n"
     ]
    }
   ],
   "source": [
    "game()"
   ]
  },
  {
   "cell_type": "code",
   "execution_count": null,
   "id": "b72ed501",
   "metadata": {},
   "outputs": [],
   "source": []
  }
 ],
 "metadata": {
  "kernelspec": {
   "display_name": "Python 3 (ipykernel)",
   "language": "python",
   "name": "python3"
  },
  "language_info": {
   "codemirror_mode": {
    "name": "ipython",
    "version": 3
   },
   "file_extension": ".py",
   "mimetype": "text/x-python",
   "name": "python",
   "nbconvert_exporter": "python",
   "pygments_lexer": "ipython3",
   "version": "3.9.13"
  }
 },
 "nbformat": 4,
 "nbformat_minor": 5
}
